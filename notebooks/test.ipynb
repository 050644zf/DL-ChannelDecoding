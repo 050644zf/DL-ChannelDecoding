{
 "cells": [
  {
   "cell_type": "code",
   "execution_count": 1,
   "metadata": {},
   "outputs": [],
   "source": [
    "import numpy as np\n",
    "import keras\n",
    "import math"
   ]
  },
  {
   "cell_type": "code",
   "execution_count": 30,
   "metadata": {},
   "outputs": [],
   "source": [
    "def get_Bn(n:int, Bn_1:np.ndarray = np.array([[1,0],[0,1]]))->np.ndarray:\n",
    "    I2 = np.array([[1,0],[0,1]])\n",
    "\n",
    "    if n > 1:\n",
    "        In = np.kron(I2, Bn_1)\n",
    "        Rn = np.hstack((\n",
    "            In[:, [i for i in range(0, In.shape[0],2)]],\n",
    "            In[:, [i for i in range(1, In.shape[0],2)]]\n",
    "        ))\n",
    "\n",
    "        Bn = np.dot(Rn, In)\n",
    "        return get_Bn(n-1, Bn)\n",
    "    else:\n",
    "        return Bn_1\n",
    "\n",
    "def get_Fn(n:int, Fn_1:np.ndarray = np.array([[1,0],[1,1]]))->np.ndarray:\n",
    "    F = np.array([[1,0],[1,1]])\n",
    "    if n > 1:\n",
    "        Fn = np.kron(Fn_1, F)\n",
    "        return get_Fn(n-1, Fn)\n",
    "    else:\n",
    "        return Fn_1\n",
    "\n",
    "def get_Gn(k:int, N:int)->np.ndarray:\n",
    "    n = math.log(N,2)\n",
    "    Bn = get_Bn(n)\n",
    "    Fn = get_Fn(n)\n",
    "    Gn = np.dot(Bn, Fn)\n",
    "    # take the last k rows of Gn\n",
    "    return Gn[-k:,:]\n",
    "\n",
    "def get_polar(un:np.ndarray, Gn:np.ndarray)->np.ndarray:\n",
    "    xn = np.dot(un, Gn)\n",
    "    # mod 2 for every element in xn\n",
    "    xn = xn % 2\n",
    "    return xn\n",
    "    "
   ]
  },
  {
   "cell_type": "code",
   "execution_count": 38,
   "metadata": {},
   "outputs": [
    {
     "name": "stdout",
     "output_type": "stream",
     "text": [
      "un: [1 1]\n",
      "Gn: [[1 1 0 0]\n",
      " [1 1 1 1]]\n",
      "xn: [0 0 1 1]\n"
     ]
    }
   ],
   "source": [
    "N = 4\n",
    "k = 2\n",
    "# un = np.random.randint(0,2,[N])\n",
    "un = np.array([1,1])\n",
    "Gn = get_Gn(k, N)\n",
    "xn = get_polar(un, Gn)\n",
    "print('un:', un)\n",
    "print('Gn:', Gn)\n",
    "print('xn:', xn)"
   ]
  }
 ],
 "metadata": {
  "interpreter": {
   "hash": "b3ba2566441a7c06988d0923437866b63cedc61552a5af99d1f4fb67d367b25f"
  },
  "kernelspec": {
   "display_name": "Python 3.8.5 ('base')",
   "language": "python",
   "name": "python3"
  },
  "language_info": {
   "codemirror_mode": {
    "name": "ipython",
    "version": 3
   },
   "file_extension": ".py",
   "mimetype": "text/x-python",
   "name": "python",
   "nbconvert_exporter": "python",
   "pygments_lexer": "ipython3",
   "version": "3.8.5"
  },
  "orig_nbformat": 4
 },
 "nbformat": 4,
 "nbformat_minor": 2
}
